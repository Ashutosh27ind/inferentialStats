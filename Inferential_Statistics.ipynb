{
 "cells": [
  {
   "cell_type": "code",
   "execution_count": 5,
   "metadata": {},
   "outputs": [
    {
     "name": "stdout",
     "output_type": "stream",
     "text": [
      "<class 'pandas.core.frame.DataFrame'>\n",
      "RangeIndex: 10000 entries, 0 to 9999\n",
      "Data columns (total 6 columns):\n",
      "Customer No.                         10000 non-null int64\n",
      "Exposure at Default (in lakh Rs.)    10000 non-null float64\n",
      "Recovery (%)                         10000 non-null object\n",
      "Probability of Default               10000 non-null float64\n",
      "Unnamed: 4                           0 non-null float64\n",
      "Unnamed: 5                           0 non-null float64\n",
      "dtypes: float64(4), int64(1), object(1)\n",
      "memory usage: 468.8+ KB\n"
     ]
    }
   ],
   "source": [
    "import pandas as pd\n",
    "\n",
    "bank_df = pd.read_csv(\"Inferential Statistics - Student Loan.csv\")\n",
    "bank_df.info()"
   ]
  },
  {
   "cell_type": "code",
   "execution_count": null,
   "metadata": {},
   "outputs": [],
   "source": [
    "##College admissions\n",
    "The probability that a college will accept a student's application is x.\n",
    "Consider that m students have applied to college. You have to find the probability that at most n students are accepted by the college.\n",
    "The input will contain three lines with x, m and n respectively.\n",
    "The output should be rounded off to four decimal places.\n",
    "Sample Input:\n",
    "0.3\n",
    "5\n",
    "2\n",
    "Sample Output:\n",
    "0.8369"
   ]
  },
  {
   "cell_type": "code",
   "execution_count": 20,
   "metadata": {},
   "outputs": [
    {
     "name": "stdout",
     "output_type": "stream",
     "text": [
      "0.8369\n"
     ]
    }
   ],
   "source": [
    "from scipy import stats\n",
    "x=0.3\n",
    "m=5\n",
    "n=2\n",
    "X = stats.binom(m, x)\n",
    "\n",
    "var = (X.cdf(n))\n",
    "\n",
    "print(round(var,4))"
   ]
  },
  {
   "cell_type": "code",
   "execution_count": 2,
   "metadata": {},
   "outputs": [
    {
     "name": "stdout",
     "output_type": "stream",
     "text": [
      "0.3\n",
      "5\n",
      "2\n",
      "0.8369\n"
     ]
    }
   ],
   "source": [
    "#Method2:\n",
    "\n",
    "import scipy.stats as ss\n",
    "x=float(input())\n",
    "m=int(input())\n",
    "n=int(input())\n",
    "dist=ss.binom(m,x)\n",
    "sum=0.0\n",
    "for i in range(0,n+1):\n",
    "    sum=sum+dist.pmf(i)\n",
    "print(round(sum,4))"
   ]
  },
  {
   "cell_type": "code",
   "execution_count": null,
   "metadata": {},
   "outputs": [],
   "source": [
    "#Tossing a coin\n",
    "Given that you are tossing a coin n times, you have to find the probability of getting heads at most m times.\n",
    "The input will have two lines containing n and m respectively.\n",
    "Sample Input:\n",
    "10\n",
    "2\n",
    "Sample Output:\n",
    "0.0547"
   ]
  },
  {
   "cell_type": "code",
   "execution_count": null,
   "metadata": {},
   "outputs": [],
   "source": [
    "n=int(input())#number of trials\n",
    "m=int(input())# find the probability of getting at most m heads\n",
    "\n",
    "Sample Input:\n",
    "10\n",
    "2\n",
    "Sample Output:\n",
    "0.0547"
   ]
  },
  {
   "cell_type": "code",
   "execution_count": 21,
   "metadata": {},
   "outputs": [
    {
     "name": "stdout",
     "output_type": "stream",
     "text": [
      "0.0547\n"
     ]
    }
   ],
   "source": [
    "n=10\n",
    "m=2\n",
    "\n",
    "x=0.5\n",
    "\n",
    "\n",
    "X = stats.binom(n, x)\n",
    "\n",
    "var = (X.cdf(m))\n",
    "print(round(var,4))"
   ]
  },
  {
   "cell_type": "code",
   "execution_count": 1,
   "metadata": {},
   "outputs": [
    {
     "name": "stdout",
     "output_type": "stream",
     "text": [
      "10\n",
      "2\n",
      "0.0547\n"
     ]
    }
   ],
   "source": [
    "#Method2: Using PMF:\n",
    "\n",
    "import scipy.stats as ss\n",
    "n=int(input())#number of trials\n",
    "m=int(input())# find the probability of getting at most m heads\n",
    "dist=ss.binom(n,0.5)\n",
    "sum=0.0\n",
    "for i in range(0,m+1):\n",
    "    sum=sum+dist.pmf(i)\n",
    "print(round(sum,4))\n",
    "#you can also use the following\n",
    "#round(dist.cdf(m),2)"
   ]
  },
  {
   "cell_type": "code",
   "execution_count": null,
   "metadata": {},
   "outputs": [],
   "source": [
    "Confidence Intervals\n",
    "For a given column in a dataframe, you have to calculate the 90 percent confidence interval for its mean value.\n",
    "(You can find Z* value for 90 percent confidence from previous segments) \n",
    "The input will have the column name. \n",
    "The output should have the confidence interval printed as a tuple.\n",
    "Note: Do not use the inbuilt function via statmodels.api or any other libraries. \n",
    "    You should write the code on your own to get accurate answers.\n",
    "The confidence interval values have to be approximated up to two decimal places.\n",
    "\n",
    "sample ouput: (315.87, 317.75)"
   ]
  },
  {
   "cell_type": "code",
   "execution_count": 48,
   "metadata": {},
   "outputs": [
    {
     "data": {
      "text/html": [
       "<div>\n",
       "<style scoped>\n",
       "    .dataframe tbody tr th:only-of-type {\n",
       "        vertical-align: middle;\n",
       "    }\n",
       "\n",
       "    .dataframe tbody tr th {\n",
       "        vertical-align: top;\n",
       "    }\n",
       "\n",
       "    .dataframe thead th {\n",
       "        text-align: right;\n",
       "    }\n",
       "</style>\n",
       "<table border=\"1\" class=\"dataframe\">\n",
       "  <thead>\n",
       "    <tr style=\"text-align: right;\">\n",
       "      <th></th>\n",
       "      <th>Serial No.</th>\n",
       "      <th>GRE Score</th>\n",
       "      <th>TOEFL Score</th>\n",
       "      <th>University Rating</th>\n",
       "      <th>SOP</th>\n",
       "      <th>LOR</th>\n",
       "      <th>CGPA</th>\n",
       "      <th>Research</th>\n",
       "      <th>Chance of Admit</th>\n",
       "    </tr>\n",
       "  </thead>\n",
       "  <tbody>\n",
       "    <tr>\n",
       "      <th>0</th>\n",
       "      <td>1</td>\n",
       "      <td>337</td>\n",
       "      <td>118</td>\n",
       "      <td>4</td>\n",
       "      <td>4.5</td>\n",
       "      <td>4.5</td>\n",
       "      <td>9.65</td>\n",
       "      <td>1</td>\n",
       "      <td>0.92</td>\n",
       "    </tr>\n",
       "    <tr>\n",
       "      <th>1</th>\n",
       "      <td>2</td>\n",
       "      <td>324</td>\n",
       "      <td>107</td>\n",
       "      <td>4</td>\n",
       "      <td>4.0</td>\n",
       "      <td>4.5</td>\n",
       "      <td>8.87</td>\n",
       "      <td>1</td>\n",
       "      <td>0.76</td>\n",
       "    </tr>\n",
       "    <tr>\n",
       "      <th>2</th>\n",
       "      <td>3</td>\n",
       "      <td>316</td>\n",
       "      <td>104</td>\n",
       "      <td>3</td>\n",
       "      <td>3.0</td>\n",
       "      <td>3.5</td>\n",
       "      <td>8.00</td>\n",
       "      <td>1</td>\n",
       "      <td>0.72</td>\n",
       "    </tr>\n",
       "    <tr>\n",
       "      <th>3</th>\n",
       "      <td>4</td>\n",
       "      <td>322</td>\n",
       "      <td>110</td>\n",
       "      <td>3</td>\n",
       "      <td>3.5</td>\n",
       "      <td>2.5</td>\n",
       "      <td>8.67</td>\n",
       "      <td>1</td>\n",
       "      <td>0.80</td>\n",
       "    </tr>\n",
       "    <tr>\n",
       "      <th>4</th>\n",
       "      <td>5</td>\n",
       "      <td>314</td>\n",
       "      <td>103</td>\n",
       "      <td>2</td>\n",
       "      <td>2.0</td>\n",
       "      <td>3.0</td>\n",
       "      <td>8.21</td>\n",
       "      <td>0</td>\n",
       "      <td>0.65</td>\n",
       "    </tr>\n",
       "  </tbody>\n",
       "</table>\n",
       "</div>"
      ],
      "text/plain": [
       "   Serial No.  GRE Score  TOEFL Score  University Rating  SOP  LOR   CGPA  \\\n",
       "0           1        337          118                  4  4.5   4.5  9.65   \n",
       "1           2        324          107                  4  4.0   4.5  8.87   \n",
       "2           3        316          104                  3  3.0   3.5  8.00   \n",
       "3           4        322          110                  3  3.5   2.5  8.67   \n",
       "4           5        314          103                  2  2.0   3.0  8.21   \n",
       "\n",
       "   Research  Chance of Admit   \n",
       "0         1              0.92  \n",
       "1         1              0.76  \n",
       "2         1              0.72  \n",
       "3         1              0.80  \n",
       "4         0              0.65  "
      ]
     },
     "execution_count": 48,
     "metadata": {},
     "output_type": "execute_result"
    }
   ],
   "source": [
    "import pandas as pd \n",
    "import numpy as np\n",
    "  \n",
    "df=pd.read_csv(\"https://media-doselect.s3.amazonaws.com/generic/N9LKLvBAx1y14PLoBdL0yRn3/Admission_Predict.csv\")\n",
    "col=\"GRE Score\"\n",
    "#write your code here\n",
    "\n",
    "df.head()"
   ]
  },
  {
   "cell_type": "code",
   "execution_count": 49,
   "metadata": {},
   "outputs": [
    {
     "name": "stdout",
     "output_type": "stream",
     "text": [
      "(315.87, 317.75)\n"
     ]
    }
   ],
   "source": [
    "import math\n",
    "X = df.loc[:,col].mean()\n",
    "n= len(df.index)\n",
    "s= np.std(df[col], ddof=1)\n",
    "\n",
    "z=1.645\n",
    "\n",
    "val2 = round(X+(z*s)/math.sqrt(n),2)\n",
    "val1 = round(X-(z*s)/math.sqrt(n),2)\n",
    "\n",
    "print(tuple([val1, val2]))"
   ]
  },
  {
   "cell_type": "code",
   "execution_count": 73,
   "metadata": {},
   "outputs": [
    {
     "name": "stdout",
     "output_type": "stream",
     "text": [
      "(315.68310334230904, 317.93189665769097)\n"
     ]
    }
   ],
   "source": [
    "#Above question different method(in built function):\n",
    "#Method2:\n",
    "\n",
    "#via statmodels.api you can do this as follows:\n",
    "import statsmodels.api as sm\n",
    "import pandas as pd \n",
    "import numpy as np\n",
    "  \n",
    "df=pd.read_csv(\"https://media-doselect.s3.amazonaws.com/generic/N9LKLvBAx1y14PLoBdL0yRn3/Admission_Predict.csv\")\n",
    "col=\"GRE Score\"\n",
    "\n",
    "print(sm.stats.DescrStatsW(df[col]).zconfint_mean())"
   ]
  },
  {
   "cell_type": "code",
   "execution_count": null,
   "metadata": {},
   "outputs": [],
   "source": [
    "##Rolling the dice\n",
    "A die is rolled n times. You have to find the probability that a number i is rolled at least j times(up to four decimal places)\n",
    "The input will contain the integers n, i and j in three lines respectively. You can assume that j<n and 0<i<7.\n",
    "The output should be rounded off to four decimal places.\n",
    "Sample Input:\n",
    "4\n",
    "1\n",
    "2\n",
    "Sample Output:\n",
    "    0.1319"
   ]
  },
  {
   "cell_type": "code",
   "execution_count": null,
   "metadata": {},
   "outputs": [],
   "source": [
    "n=int(input())\n",
    "i=int(input())\n",
    "j=int(input())\n"
   ]
  },
  {
   "cell_type": "code",
   "execution_count": 55,
   "metadata": {},
   "outputs": [
    {
     "name": "stdout",
     "output_type": "stream",
     "text": [
      "0.1319\n"
     ]
    }
   ],
   "source": [
    "#Method1 :\n",
    "from scipy import stats\n",
    "n=4\n",
    "j=2\n",
    "\n",
    "x=1/6\n",
    "\n",
    "X = stats.binom(n, x)\n",
    "var = (X.cdf(j-1))\n",
    "req_var = 1-var\n",
    "\n",
    "print(round(req_var,4))"
   ]
  },
  {
   "cell_type": "code",
   "execution_count": 81,
   "metadata": {},
   "outputs": [
    {
     "name": "stdout",
     "output_type": "stream",
     "text": [
      "4\n",
      "1\n",
      "2\n",
      "0.1319\n"
     ]
    }
   ],
   "source": [
    "##Method 2:\n",
    "\n",
    "import scipy.stats as ss\n",
    "n=int(input())\n",
    "i=int(input())\n",
    "j=int(input())\n",
    "dist=ss.binom(n,1/6)\n",
    "print(round(1-dist.cdf(j-1),4))"
   ]
  },
  {
   "cell_type": "code",
   "execution_count": null,
   "metadata": {},
   "outputs": [],
   "source": [
    "#Combination Theory\n",
    "You are given a list of n natural numbers. You select m numbers from the list at random. \n",
    "Find the probability that at least one of the selected alphabets is \"x\" where x is a number given to you as input.\n",
    "The first line of input will contain a list of numbers. The second line will contain m and the third line will contain x.\n",
    "The output should be printed out as float.\n",
    "Sample Input:\n",
    "[1,2,3,4,5,6,6,6,6,7,7,7]\n",
    "3\n",
    "6\n",
    "Sample Output:\n",
    "    0.7454545454545455"
   ]
  },
  {
   "cell_type": "code",
   "execution_count": null,
   "metadata": {},
   "outputs": [],
   "source": [
    "import ast,sys\n",
    "input_str = sys.stdin.read()\n",
    "input_list = ast.literal_eval(input_str)\n",
    "nums=input_list[0]#the list of numbers\n",
    "m=int(input_list[1])#m numbers are chosen\n",
    "x=int(input_list[2])#find probability of getting at least one x \n",
    "\n"
   ]
  },
  {
   "cell_type": "code",
   "execution_count": 70,
   "metadata": {},
   "outputs": [
    {
     "name": "stdout",
     "output_type": "stream",
     "text": [
      "nan\n"
     ]
    }
   ],
   "source": [
    "nums = [1,2,3,4,5,6,6,6,6,7,7,7]\n",
    "count_el = len(nums)\n",
    "m=3\n",
    "x=6\n",
    "probability = count_el/nums.count(x)\n",
    "\n",
    "\n",
    "X = stats.binom(count_el, probability)\n",
    "\n",
    "var = (X.cdf(m))\n",
    "req_var = 1-var\n",
    "\n",
    "print(req_var)\n"
   ]
  },
  {
   "cell_type": "code",
   "execution_count": 85,
   "metadata": {},
   "outputs": [
    {
     "name": "stdout",
     "output_type": "stream",
     "text": [
      "0.7454545454545455\n"
     ]
    }
   ],
   "source": [
    "#Method2 : Combination Theory:\n",
    "\n",
    "#import ast,sys\n",
    "#input_str = sys.stdin.read()\n",
    "#input_list = ast.literal_eval(input_str)\n",
    "nums=[1,2,3,4,5,6,6,6,6,7,7,7]\n",
    "m=3 #m numbers are chosen\n",
    "x=6 #find probability of getting at least one x \n",
    "from itertools import combinations \n",
    "num = 0\n",
    "den = 0\n",
    "for c in combinations(nums,m):\n",
    "    den=den+1\n",
    "    if x in c:\n",
    "        num=num+1\n",
    "    \n",
    "print (float(num/den))"
   ]
  },
  {
   "cell_type": "code",
   "execution_count": null,
   "metadata": {},
   "outputs": [],
   "source": [
    "Lego Stack\n",
    "You are given a row of Lego Blocks consisting of n blocks. All the blocks given have a square base whose side length is known. You need to stack the blocks over each other and create a vertical tower. Block-1 can go over Block-2 only if sideLength(Block-2)=>sideLength(Block-1).\n",
    "From the row of Lego blocks, you on only pick up either the leftmost or rightmost block.\n",
    "Print \"Possible\" if it is possible to stack all n cubes this way or else print \"Impossible\".\n",
    "\n",
    "Input Format:\n",
    "The input will contain a list of n integers representing the side length of each block's base in the row starting from the leftmost.\n",
    "\n",
    "Sample Input:\n",
    "[5 ,4, 2, 1, 4 ,5]\n",
    "Sample Output:\n",
    "Possible"
   ]
  },
  {
   "cell_type": "code",
   "execution_count": 86,
   "metadata": {},
   "outputs": [
    {
     "name": "stdout",
     "output_type": "stream",
     "text": [
      "Possible\n"
     ]
    }
   ],
   "source": [
    "import ast,sys\n",
    "#input_str = sys.stdin.read()\n",
    "sides = [5 ,4, 2, 1, 4 ,5]#list of side lengths\n",
    "l=len(sides)\n",
    "diff = [(sides[i]-sides[i+1]) for i in range(l-1)]\n",
    "i = 0 \n",
    "while (i<l-1 and diff[i]>=0) : i += 1 \n",
    "while (i<l-1 and diff[i]<=0) : i += 1\n",
    "if (i==l-1) : print(\"Possible\") \n",
    "else : print(\"Impossible\")\n",
    "\n",
    "#to understand the code, try printing out all intermediate variables."
   ]
  },
  {
   "cell_type": "code",
   "execution_count": null,
   "metadata": {},
   "outputs": [],
   "source": [
    "Generating normal distribution\n",
    "Generate an array of real numbers representing a normal distribution. You will be given the mean and standard deviation as input. You have to generate 10 such numbers.\n",
    "Hint: You can use numpy's np.random here.  You can read more about it here.\n",
    "To keep the output consistent, you have to set the seed as a specific number which will be given to you as input. Setting a seed means that every time you generate random numbers, they will be the same for the same seed. You can read more about it here.\n",
    "\n",
    "Input Format:\n",
    "The input will contain 3 lines which have the seed, mean and standard deviation of the distribution in the same order.\n",
    "The output will be a numpy array of the generated normal distribution.\n",
    "\n",
    "Sample Input:\n",
    "1\n",
    "0\n",
    "0.1\n",
    "\n",
    "Sample Output:\n",
    "    \n",
    "    [ 0.16243454 -0.06117564 -0.05281718 -0.10729686  0.08654076 -0.23015387\n",
    "  0.17448118 -0.07612069  0.03190391 -0.02493704]"
   ]
  },
  {
   "cell_type": "code",
   "execution_count": 3,
   "metadata": {},
   "outputs": [
    {
     "name": "stdout",
     "output_type": "stream",
     "text": [
      "1\n",
      "0\n",
      "0.1\n",
      "[ 0.16243454 -0.06117564 -0.05281718 -0.10729686  0.08654076 -0.23015387\n",
      "  0.17448118 -0.07612069  0.03190391 -0.02493704]\n"
     ]
    }
   ],
   "source": [
    "import numpy as np \n",
    "seed=int(input())\n",
    "mean=float(input())\n",
    "std_dev=float(input())\n",
    "np.random.seed(seed)\n",
    "s = np.random.normal(mean, std_dev, 10)\n",
    "print(s)"
   ]
  },
  {
   "cell_type": "code",
   "execution_count": null,
   "metadata": {},
   "outputs": [],
   "source": [
    "Gambling 101\n",
    "You are participating in a lottery game. A deck of cards numbered from 1-50 is shuffled and 5 cards are drawn out and laid out. You are given a coin. For each card, you toss the coin and pick it up if it says heads, otherwise you don't pick it up. The sum of the cards is what you win.\n",
    "The lottery ticket costs c rupees. If the expected value of the sum of cards you pick up is less than the lottery ticket, then you buy another ticket otherwise you don't.\n",
    "\n",
    "Input Format:\n",
    "The first 5 lines of the input will contain 5 numbers between 1 to 50.\n",
    "The next line will contain c, the cost of lottery ticket.\n",
    "Output Format:\n",
    "Print \"Don't buy another\" if the expected value is less than the ticket price and print \"Buy another one\" if the expected value is more than the ticket price.\n",
    "\n",
    "Sample Input:\n",
    "1\n",
    "4\n",
    "6\n",
    "17\n",
    "3\n",
    "23\n",
    "Sample Output:\n",
    "Don't buy another\n",
    "\n",
    "Note: You have to take input using the input() function. For your practice with taking inputs, the stub will be empty."
   ]
  },
  {
   "cell_type": "code",
   "execution_count": 4,
   "metadata": {},
   "outputs": [
    {
     "name": "stdout",
     "output_type": "stream",
     "text": [
      "1\n",
      "4\n",
      "6\n",
      "17\n",
      "3\n",
      "23\n",
      "Don't buy another\n"
     ]
    }
   ],
   "source": [
    "sum=0\n",
    "for i in range(0,5):\n",
    "    sum=sum+int(input())/2\n",
    "if sum<=int(input()):\n",
    "    print(\"Don't buy another\")\n",
    "else:\n",
    "    print(\"Buy another one\")"
   ]
  },
  {
   "cell_type": "code",
   "execution_count": 5,
   "metadata": {},
   "outputs": [
    {
     "data": {
      "text/plain": [
       "'C:\\\\Users\\\\Ashutosh'"
      ]
     },
     "execution_count": 5,
     "metadata": {},
     "output_type": "execute_result"
    }
   ],
   "source": [
    "pwd"
   ]
  },
  {
   "cell_type": "code",
   "execution_count": null,
   "metadata": {},
   "outputs": [],
   "source": [
    "################## Graded Questions ####################3"
   ]
  },
  {
   "cell_type": "code",
   "execution_count": null,
   "metadata": {},
   "outputs": [],
   "source": [
    "#Seating Arrangement\n",
    "Description\n",
    "N people sit around a circular table. You have to find the probability that two particular people won't be sitting together.\n",
    "\n",
    "The input will have the number N and the output should have the probability printed as a float type number rounded off to four decimal places.\n",
    "\n",
    "Hint: This problem follows the logic of circular permutation which you can read about here.\n",
    "Sample Input:\n",
    "15\n",
    "Sample Output:\n",
    "0.8571    "
   ]
  },
  {
   "cell_type": "code",
   "execution_count": 11,
   "metadata": {},
   "outputs": [
    {
     "name": "stdout",
     "output_type": "stream",
     "text": [
      "0.8571\n"
     ]
    }
   ],
   "source": [
    "n=15\n",
    "import math \n",
    "\n",
    "favourable_outcomes = math.factorial(n-2)*math.factorial(2)\n",
    "\n",
    "total_outcomes = math.factorial(n-1) \n",
    "\n",
    "probality = favourable_outcomes/total_outcomes\n",
    "\n",
    "\n",
    "probality_final = 1- probality\n",
    "\n",
    "print(round(probality_final,4))\n"
   ]
  },
  {
   "cell_type": "code",
   "execution_count": 30,
   "metadata": {},
   "outputs": [
    {
     "name": "stdout",
     "output_type": "stream",
     "text": [
      "15\n",
      "0.8571\n"
     ]
    }
   ],
   "source": [
    "#Method2:\n",
    "n=int(input())\n",
    "import math\n",
    "print(round(1-math.factorial(n-2)*math.factorial(2)/math.factorial(n-1),4))\n"
   ]
  },
  {
   "cell_type": "code",
   "execution_count": null,
   "metadata": {},
   "outputs": [],
   "source": [
    "#Symmetric triangle\n",
    "Description\n",
    "A symmetric triangle of level 5 would look as follows:\n",
    "1\n",
    "121\n",
    "12321\n",
    "1234321\n",
    "123454321\n",
    "\n",
    "As you can see, each row here is a palindrome. Your task is to print an n level symmetric triangle.\n",
    "Note: There should be no spaces between the numbers in the triangle.\n",
    "\n",
    "Sample Input:\n",
    "4\n",
    "Sample Output:\n",
    "1\n",
    "121\n",
    "12321\n",
    "1234321"
   ]
  },
  {
   "cell_type": "code",
   "execution_count": 29,
   "metadata": {},
   "outputs": [
    {
     "name": "stdout",
     "output_type": "stream",
     "text": [
      "0\n",
      "0\n",
      "0\n",
      "0\n"
     ]
    }
   ],
   "source": [
    "n=4\n",
    "\n",
    "for i in range(1, n+1):\n",
    "  #  print((10**i//9)**2)\n",
    "     print((10**i//9))\n",
    "    \n",
    "    "
   ]
  },
  {
   "cell_type": "code",
   "execution_count": null,
   "metadata": {},
   "outputs": [],
   "source": [
    "#Entrance Test\n",
    "Description\n",
    "Consider that the scores of an entrance test are normally distributed. \n",
    "If the test has a mean of m and a standard deviation of s.\n",
    "You have set the cut off as 90 marks for the test. What is the probability of a student passing the test?\n",
    "The input will contain m and s in two lines in the same order. The output has to be rounded off to two decimal places.\n",
    "Sample Input:\n",
    "100\n",
    "10\n",
    "Sample Output:\n",
    "0.84"
   ]
  },
  {
   "cell_type": "code",
   "execution_count": 25,
   "metadata": {},
   "outputs": [
    {
     "name": "stdout",
     "output_type": "stream",
     "text": [
      "0.84\n"
     ]
    }
   ],
   "source": [
    "m=100\n",
    "sd=10\n",
    "n=90\n",
    "\n",
    "def Zscore(xcritical, mean, stdev):\n",
    "    return (xcritical - mean)/stdev\n",
    "\n",
    "zscore = Zscore(n, m, sd)\n",
    "\n",
    "import scipy.stats as st\n",
    "val = st.norm.cdf(zscore)\n",
    "req_val = 1-val\n",
    "\n",
    "print(round(req_val,2))\n"
   ]
  },
  {
   "cell_type": "code",
   "execution_count": null,
   "metadata": {},
   "outputs": [],
   "source": [
    "#Method2:\n",
    "import scipy.stats\n",
    "m=float(input())#mean\n",
    "sd=float(input())#standard deviation\n",
    "print(round(1-scipy.stats.norm(m,sd).cdf(90),2))"
   ]
  },
  {
   "cell_type": "code",
   "execution_count": null,
   "metadata": {},
   "outputs": [],
   "source": [
    "#Coloured cards\n",
    "Description\n",
    "A card stack contains white and black cards. Two cards are drawn randomly without replacement. The probability of selecting a white and then a black card is x. The probability of selecting a white card in the first draw is y. You have to find the probability of drawing a black card, given that the first card drawn was white.\n",
    "The input will contain two lines with x and y respectively.  \n",
    "The output should be displayed as a float(no need to round it off).\n",
    "Sample Input:\n",
    "0.2\n",
    "0.5\n",
    "Sample Output:\n",
    "0.4"
   ]
  },
  {
   "cell_type": "code",
   "execution_count": 21,
   "metadata": {
    "scrolled": true
   },
   "outputs": [
    {
     "name": "stdout",
     "output_type": "stream",
     "text": [
      "0.4\n"
     ]
    }
   ],
   "source": [
    "x=0.2\n",
    "y=0.5\n",
    "#write your code here\n",
    "\n",
    "print(x/y)\n"
   ]
  },
  {
   "cell_type": "code",
   "execution_count": null,
   "metadata": {},
   "outputs": [],
   "source": [
    "#Generating Binomial Distribution\n",
    "Description\n",
    "Generate a binomial distribution, tested 10 times, given the number of trials(n) and probability(p) of each trial.\n",
    "The input will contain seed, n and p in the same order. \n",
    "The output should contain a numpy array with 10 numbers representing the required binomial distribution.\n",
    "Hint: You can use numpy's random number generator here too. Remember to set the seed before generating numbers to ensure correct output.\n",
    "Sample Input:\n",
    "0\n",
    "10\n",
    "0.5\n",
    "Sample Output:\n",
    "    [5 6 5 5 5 6 5 7 8 5]"
   ]
  },
  {
   "cell_type": "code",
   "execution_count": 27,
   "metadata": {},
   "outputs": [
    {
     "name": "stdout",
     "output_type": "stream",
     "text": [
      "0\n",
      "10\n",
      "0.5\n",
      "[5 6 5 5 5 6 5 7 8 5]\n"
     ]
    }
   ],
   "source": [
    "import numpy as np \n",
    "seed=int(input())\n",
    "n=int(input())\n",
    "p=float(input())\n",
    "#write your code here\n",
    "np.random.seed(seed)\n",
    "s = np.random.binomial(n, p, 10)\n",
    "print(s)\n"
   ]
  },
  {
   "cell_type": "code",
   "execution_count": null,
   "metadata": {},
   "outputs": [],
   "source": []
  }
 ],
 "metadata": {
  "kernelspec": {
   "display_name": "Python 3",
   "language": "python",
   "name": "python3"
  },
  "language_info": {
   "codemirror_mode": {
    "name": "ipython",
    "version": 3
   },
   "file_extension": ".py",
   "mimetype": "text/x-python",
   "name": "python",
   "nbconvert_exporter": "python",
   "pygments_lexer": "ipython3",
   "version": "3.7.1"
  }
 },
 "nbformat": 4,
 "nbformat_minor": 2
}
